{
 "cells": [
  {
   "cell_type": "code",
   "execution_count": 14,
   "id": "fb2943cb",
   "metadata": {},
   "outputs": [],
   "source": [
    "import qrcode\n",
    "from PIL import Image\n"
   ]
  },
  {
   "cell_type": "code",
   "execution_count": 15,
   "id": "63e624c7",
   "metadata": {},
   "outputs": [],
   "source": [
    "from qrcode.image.styles.moduledrawers import RoundedModuleDrawer\n",
    "from qrcode.image.styles.colormasks import RadialGradiantColorMask"
   ]
  },
  {
   "cell_type": "code",
   "execution_count": 16,
   "id": "3017e3cc",
   "metadata": {},
   "outputs": [],
   "source": [
    "import qrcode.image.styles.moduledrawers as md"
   ]
  },
  {
   "cell_type": "code",
   "execution_count": 9,
   "id": "5ecb55cb",
   "metadata": {},
   "outputs": [
    {
     "name": "stdout",
     "output_type": "stream",
     "text": [
      "CircleModuleDrawer\n",
      "GappedSquareModuleDrawer\n",
      "HorizontalBarsDrawer\n",
      "RoundedModuleDrawer\n",
      "SquareModuleDrawer\n",
      "VerticalBarsDrawer\n",
      "__builtins__\n",
      "__cached__\n",
      "__doc__\n",
      "__file__\n",
      "__loader__\n",
      "__name__\n",
      "__package__\n",
      "__path__\n",
      "__spec__\n",
      "base\n",
      "pil\n"
     ]
    }
   ],
   "source": [
    "print(\"\\n\".join(dir(md)))"
   ]
  },
  {
   "cell_type": "code",
   "execution_count": 17,
   "id": "33fdc797-3d63-474d-8e56-4ff48aaa688a",
   "metadata": {},
   "outputs": [
    {
     "data": {
      "image/png": "[encoded data removed]",
      "text/plain": [
       "<qrcode.image.pil.PilImage at 0x109a72250>"
      ]
     },
     "metadata": {},
     "output_type": "display_data"
    }
   ],
   "source": [
    "# Content to encode\n",
    "data = \"https://example.com\"\n",
    "\n",
    "# Create QR code instance\n",
    "qr = qrcode.QRCode(\n",
    "    version=1,  # Controls the size of the QR code (1–40)\n",
    "    error_correction=qrcode.constants.ERROR_CORRECT_H,  # Higher = more error tolerance\n",
    "    box_size=10,  # Controls how big each \"box\" of the QR code is\n",
    "    border=4,  # How many boxes thick the border should be\n",
    ")\n",
    "\n",
    "# Add data\n",
    "qr.add_data(data)\n",
    "qr.make(fit=True)\n",
    "\n",
    "# Create image\n",
    "img = qr.make_image(fill_color=\"black\", back_color=\"white\",module_drawer=RoundedModuleDrawer(2))\n",
    "\n",
    "# Show image\n",
    "display(img)"
   ]
  },
  {
   "cell_type": "code",
   "execution_count": 18,
   "id": "273fbaa0",
   "metadata": {},
   "outputs": [
    {
     "name": "stdout",
     "output_type": "stream",
     "text": [
      "No logo file found. Skipping overlay.\n"
     ]
    },
    {
     "data": {
      "image/png": "[encoded data removed]",
      "text/plain": [
       "<PIL.Image.Image image mode=RGB size=370x370>"
      ]
     },
     "metadata": {},
     "output_type": "display_data"
    }
   ],
   "source": [
    "# Custom colors and logo\n",
    "qr = qrcode.QRCode(\n",
    "    version=2,\n",
    "    error_correction=qrcode.constants.ERROR_CORRECT_H,\n",
    "    box_size=10,\n",
    "    border=4,\n",
    ")\n",
    "qr.add_data(\"https://example.com\")\n",
    "qr.make(fit=True)\n",
    "\n",
    "# Create colored QR code\n",
    "img = qr.make_image(fill_color=\"darkblue\", back_color=\"lightyellow\").convert('RGB')\n",
    "\n",
    "# Add a logo in the center (optional)\n",
    "logo_path = \"logo.png\"  # Replace with your logo path\n",
    "\n",
    "try:\n",
    "    logo = Image.open(logo_path)\n",
    "\n",
    "    # Calculate size and position\n",
    "    basewidth = 60\n",
    "    wpercent = basewidth / float(logo.size[0])\n",
    "    hsize = int((float(logo.size[1]) * float(wpercent)))\n",
    "    logo = logo.resize((basewidth, hsize), Image.LANCZOS)\n",
    "\n",
    "    pos = ((img.size[0] - logo.size[0]) // 2, (img.size[1] - logo.size[1]) // 2)\n",
    "    img.paste(logo, pos, mask=logo if logo.mode == 'RGBA' else None)\n",
    "except FileNotFoundError:\n",
    "    print(\"No logo file found. Skipping overlay.\")\n",
    "\n",
    "# Display the final QR code\n",
    "display(img)"
   ]
  },
  {
   "cell_type": "code",
   "execution_count": 19,
   "id": "65f7af8c",
   "metadata": {},
   "outputs": [],
   "source": [
    "import PIL\n",
    "from PIL import Image, ImageDraw\n",
    "import qrcode\n",
    "from qrcode.image.styledpil import StyledPilImage\n",
    "from qrcode.image.styles.moduledrawers import RoundedModuleDrawer,VerticalBarsDrawer,SquareModuleDrawer\n",
    "from  qrcode.image.styles.colormasks import SolidFillColorMask\n"
   ]
  },
  {
   "cell_type": "code",
   "execution_count": 76,
   "id": "2b768f74-b99f-452e-ad89-270218f0872b",
   "metadata": {},
   "outputs": [
    {
     "data": {
      "image/png": "[encoded data removed]",
      "text/plain": [
       "<PIL.Image.Image image mode=RGB size=450x450>"
      ]
     },
     "metadata": {},
     "output_type": "display_data"
    }
   ],
   "source": [
    "#Custom function for eye styling. These create the eye masks\n",
    "\n",
    "def style_inner_eyes(img):\n",
    "  img_size = img.size[0]\n",
    "  eye_size = 70 #default\n",
    "  quiet_zone = 40 #default\n",
    "  mask = Image.new('L', img.size, 0)\n",
    "  draw = ImageDraw.Draw(mask)\n",
    "  draw.rectangle((60, 60, 90, 90), fill=255) #top left eye\n",
    "  draw.rectangle((img_size-90, 60, img_size-60, 90), fill=255) #top right eye\n",
    "  draw.rectangle((60, img_size-90, 90, img_size-60), fill=255) #bottom left eye\n",
    "  return mask\n",
    "\n",
    "def style_outer_eyes(img):\n",
    "  img_size = img.size[0]\n",
    "  eye_size = 70 #default\n",
    "  quiet_zone = 40 #default\n",
    "  mask = Image.new('L', img.size, 0)\n",
    "  draw = ImageDraw.Draw(mask)\n",
    "  draw.rectangle((40, 40, 110, 110), fill=255) #top left eye\n",
    "  draw.rectangle((img_size-110, 40, img_size-40, 110), fill=255) #top right eye\n",
    "  draw.rectangle((40, img_size-110, 110, img_size-40), fill=255) #bottom left eye\n",
    "  draw.rectangle((60, 60, 90, 90), fill=0) #top left eye\n",
    "  draw.rectangle((img_size-90, 60, img_size-60, 90), fill=0) #top right eye\n",
    "  draw.rectangle((60, img_size-90, 90, img_size-60), fill=0) #bottom left eye  \n",
    "  return mask  \n",
    "\n",
    "\n",
    "if not hasattr(PIL.Image, 'Resampling'):\n",
    "  PIL.Image.Resampling = PIL.Image\n",
    "# Now PIL.Image.Resampling.BICUBIC is always recognized.\n",
    "\n",
    "\n",
    "qr = qrcode.QRCode(version=5,error_correction=qrcode.constants.ERROR_CORRECT_H)\n",
    "\n",
    "qr.add_data('http://www.medium.com')\n",
    "\n",
    "qr_inner_eyes_img = qr.make_image(image_factory=StyledPilImage,\n",
    "                            eye_drawer=RoundedModuleDrawer(radius_ratio=1),\n",
    "                            color_mask=SolidFillColorMask( back_color=(0, 255, 255),front_color=(255, 0, 0)))\n",
    "\n",
    "qr_outer_eyes_img = qr.make_image(image_factory=StyledPilImage,\n",
    "                            eye_drawer=RoundedModuleDrawer(),\n",
    "                            color_mask=SolidFillColorMask(back_color=(0, 0, 255),front_color=(255, 255, 0)))                            \n",
    "\n",
    "qr_img = qr.make_image(image_factory=StyledPilImage,\n",
    "                       module_drawer=RoundedModuleDrawer())\n",
    "\n",
    "inner_eye_mask = style_inner_eyes(qr_img)\n",
    "outer_eye_mask = style_outer_eyes(qr_img)\n",
    "intermediate_img = Image.composite(qr_inner_eyes_img, qr_img, inner_eye_mask)\n",
    "final_image = Image.composite(qr_outer_eyes_img, intermediate_img, outer_eye_mask)\n",
    "display(final_image)"
   ]
  },
  {
   "cell_type": "code",
   "execution_count": 10,
   "id": "a05c8b2e",
   "metadata": {},
   "outputs": [],
   "source": [
    "def rgb_to_rgb(rgb_color):\n",
    "    rgb_color = rgb_color.lstrip('rgb(')\n",
    "    rgb_color = rgb_color.rstrip(')')\n",
    "    return tuple(int(c) for c in rgb_color.split(\",\"))"
   ]
  },
  {
   "cell_type": "code",
   "execution_count": 12,
   "id": "f8b054f1",
   "metadata": {},
   "outputs": [
    {
     "data": {
      "text/plain": [
       "(255, 30, 30)"
      ]
     },
     "execution_count": 12,
     "metadata": {},
     "output_type": "execute_result"
    }
   ],
   "source": [
    "rgb_to_rgb(\"rgb(255, +30, +30)\")"
   ]
  },
  {
   "cell_type": "code",
   "execution_count": 36,
   "id": "a70a1571",
   "metadata": {},
   "outputs": [],
   "source": [
    "test = \"rgb%280%2C0%2C0%29\""
   ]
  },
  {
   "cell_type": "code",
   "execution_count": 31,
   "id": "6df59f7f",
   "metadata": {},
   "outputs": [
    {
     "name": "stdout",
     "output_type": "stream",
     "text": [
      "rgb%280%2C0%2C0%29\n",
      "%280%230\n"
     ]
    }
   ],
   "source": [
    "print(test)\n",
    "print(u\"%280%230\")"
   ]
  },
  {
   "cell_type": "code",
   "execution_count": 32,
   "id": "7787694b",
   "metadata": {},
   "outputs": [],
   "source": [
    "import urllib.parse"
   ]
  },
  {
   "cell_type": "code",
   "execution_count": 35,
   "id": "cf77f1ad",
   "metadata": {},
   "outputs": [
    {
     "data": {
      "text/plain": [
       "'rgb(0,0,0)'"
      ]
     },
     "execution_count": 35,
     "metadata": {},
     "output_type": "execute_result"
    }
   ],
   "source": [
    "urllib.parse.unquote(test)"
   ]
  },
  {
   "cell_type": "code",
   "execution_count": 34,
   "id": "58ab0bc0",
   "metadata": {},
   "outputs": [
    {
     "data": {
      "text/plain": [
       "'rgb%280%2C0%2C0%29'"
      ]
     },
     "execution_count": 34,
     "metadata": {},
     "output_type": "execute_result"
    }
   ],
   "source": [
    "test"
   ]
  },
  {
   "cell_type": "code",
   "execution_count": 37,
   "id": "2457676d",
   "metadata": {},
   "outputs": [
    {
     "data": {
      "text/plain": [
       "['rgb%280', '0', '0%29']"
      ]
     },
     "execution_count": 37,
     "metadata": {},
     "output_type": "execute_result"
    }
   ],
   "source": [
    "test.split(\"%2C\")"
   ]
  },
  {
   "cell_type": "code",
   "execution_count": 57,
   "id": "9dcceff5",
   "metadata": {},
   "outputs": [],
   "source": [
    "def rgb_to_rgb(rgb_color):\n",
    "    rgb_color = urllib.parse.unquote(rgb_color)\n",
    "    rgb_color = rgb_color.lstrip('rgb(')\n",
    "    rgb_color = rgb_color.lstrip('rgb%28')\n",
    "    rgb_color = rgb_color.rstrip(')')\n",
    "    rgb_color = rgb_color.rstrip('%29')\n",
    "    \n",
    "    \n",
    "    if \"%\" in rgb_color:\n",
    "        return tuple(int(c) for c in rgb_color.split(\"%2C\"))\n",
    "    else:\n",
    "        return tuple(int(c) for c in rgb_color.split(\",\"))"
   ]
  },
  {
   "cell_type": "code",
   "execution_count": 60,
   "id": "06eff9e1",
   "metadata": {},
   "outputs": [
    {
     "data": {
      "text/plain": [
       "(30, 12, 300)"
      ]
     },
     "execution_count": 60,
     "metadata": {},
     "output_type": "execute_result"
    }
   ],
   "source": [
    "rgb_to_rgb(\"rgb(+30,12,300)\")"
   ]
  },
  {
   "cell_type": "code",
   "execution_count": 61,
   "id": "31e1c444",
   "metadata": {},
   "outputs": [
    {
     "data": {
      "text/plain": [
       "'rgb%280%2C0%2C0%29'"
      ]
     },
     "execution_count": 61,
     "metadata": {},
     "output_type": "execute_result"
    }
   ],
   "source": [
    "test"
   ]
  },
  {
   "cell_type": "code",
   "execution_count": null,
   "id": "214cd9e5",
   "metadata": {},
   "outputs": [],
   "source": []
  }
 ],
 "metadata": {
  "kernelspec": {
   "display_name": "Python 3 (ipykernel)",
   "language": "python",
   "name": "python3"
  },
  "language_info": {
   "codemirror_mode": {
    "name": "ipython",
    "version": 3
   },
   "file_extension": ".py",
   "mimetype": "text/x-python",
   "name": "python",
   "nbconvert_exporter": "python",
   "pygments_lexer": "ipython3",
   "version": "3.11.5"
  }
 },
 "nbformat": 4,
 "nbformat_minor": 5
}
