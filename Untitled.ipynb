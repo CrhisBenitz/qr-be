{
 "cells": [
  {
   "cell_type": "code",
   "execution_count": 14,
   "id": "fb2943cb",
   "metadata": {},
   "outputs": [],
   "source": [
    "import qrcode\n",
    "from PIL import Image\n"
   ]
  },
  {
   "cell_type": "code",
   "execution_count": 15,
   "id": "63e624c7",
   "metadata": {},
   "outputs": [],
   "source": [
    "from qrcode.image.styles.moduledrawers import RoundedModuleDrawer\n",
    "from qrcode.image.styles.colormasks import RadialGradiantColorMask"
   ]
  },
  {
   "cell_type": "code",
   "execution_count": 16,
   "id": "3017e3cc",
   "metadata": {},
   "outputs": [],
   "source": [
    "import qrcode.image.styles.moduledrawers as md"
   ]
  },
  {
   "cell_type": "code",
   "execution_count": 9,
   "id": "6f253dbe",
   "metadata": {},
   "outputs": [
    {
     "name": "stdout",
     "output_type": "stream",
     "text": [
      "CircleModuleDrawer\n",
      "GappedSquareModuleDrawer\n",
      "HorizontalBarsDrawer\n",
      "RoundedModuleDrawer\n",
      "SquareModuleDrawer\n",
      "VerticalBarsDrawer\n",
      "__builtins__\n",
      "__cached__\n",
      "__doc__\n",
      "__file__\n",
      "__loader__\n",
      "__name__\n",
      "__package__\n",
      "__path__\n",
      "__spec__\n",
      "base\n",
      "pil\n"
     ]
    }
   ],
   "source": [
    "print(\"\\n\".join(dir(md)))"
   ]
  },
  {
   "cell_type": "code",
   "execution_count": 17,
   "id": "33fdc797-3d63-474d-8e56-4ff48aaa688a",
   "metadata": {},
   "outputs": [
    {
     "data": {
      "image/png": "[encoded data removed]",
      "text/plain": [
       "<qrcode.image.pil.PilImage at 0x109a72250>"
      ]
     },
     "metadata": {},
     "output_type": "display_data"
    }
   ],
   "source": [
    "# Content to encode\n",
    "data = \"https://example.com\"\n",
    "\n",
    "# Create QR code instance\n",
    "qr = qrcode.QRCode(\n",
    "    version=1,  # Controls the size of the QR code (1–40)\n",
    "    error_correction=qrcode.constants.ERROR_CORRECT_H,  # Higher = more error tolerance\n",
    "    box_size=10,  # Controls how big each \"box\" of the QR code is\n",
    "    border=4,  # How many boxes thick the border should be\n",
    ")\n",
    "\n",
    "# Add data\n",
    "qr.add_data(data)\n",
    "qr.make(fit=True)\n",
    "\n",
    "# Create image\n",
    "img = qr.make_image(fill_color=\"black\", back_color=\"white\",module_drawer=RoundedModuleDrawer(2))\n",
    "\n",
    "# Show image\n",
    "display(img)"
   ]
  },
  {
   "cell_type": "code",
   "execution_count": 18,
   "id": "273fbaa0",
   "metadata": {},
   "outputs": [
    {
     "name": "stdout",
     "output_type": "stream",
     "text": [
      "No logo file found. Skipping overlay.\n"
     ]
    },
    {
     "data": {
      "image/png": "[encoded data removed]",
      "text/plain": [
       "<PIL.Image.Image image mode=RGB size=370x370>"
      ]
     },
     "metadata": {},
     "output_type": "display_data"
    }
   ],
   "source": [
    "# Custom colors and logo\n",
    "qr = qrcode.QRCode(\n",
    "    version=2,\n",
    "    error_correction=qrcode.constants.ERROR_CORRECT_H,\n",
    "    box_size=10,\n",
    "    border=4,\n",
    ")\n",
    "qr.add_data(\"https://example.com\")\n",
    "qr.make(fit=True)\n",
    "\n",
    "# Create colored QR code\n",
    "img = qr.make_image(fill_color=\"darkblue\", back_color=\"lightyellow\").convert('RGB')\n",
    "\n",
    "# Add a logo in the center (optional)\n",
    "logo_path = \"logo.png\"  # Replace with your logo path\n",
    "\n",
    "try:\n",
    "    logo = Image.open(logo_path)\n",
    "\n",
    "    # Calculate size and position\n",
    "    basewidth = 60\n",
    "    wpercent = basewidth / float(logo.size[0])\n",
    "    hsize = int((float(logo.size[1]) * float(wpercent)))\n",
    "    logo = logo.resize((basewidth, hsize), Image.LANCZOS)\n",
    "\n",
    "    pos = ((img.size[0] - logo.size[0]) // 2, (img.size[1] - logo.size[1]) // 2)\n",
    "    img.paste(logo, pos, mask=logo if logo.mode == 'RGBA' else None)\n",
    "except FileNotFoundError:\n",
    "    print(\"No logo file found. Skipping overlay.\")\n",
    "\n",
    "# Display the final QR code\n",
    "display(img)"
   ]
  },
  {
   "cell_type": "code",
   "execution_count": 19,
   "id": "65f7af8c",
   "metadata": {},
   "outputs": [],
   "source": [
    "import PIL\n",
    "from PIL import Image, ImageDraw\n",
    "import qrcode\n",
    "from qrcode.image.styledpil import StyledPilImage\n",
    "from qrcode.image.styles.moduledrawers import RoundedModuleDrawer,VerticalBarsDrawer,SquareModuleDrawer\n",
    "from  qrcode.image.styles.colormasks import SolidFillColorMask\n"
   ]
  },
  {
   "cell_type": "code",
   "execution_count": 77,
   "id": "5e825d45",
   "metadata": {},
   "outputs": [
    {
     "data": {
      "text/plain": [
       "'9.4.0'"
      ]
     },
     "execution_count": 77,
     "metadata": {},
     "output_type": "execute_result"
    }
   ],
   "source": [
    "PIL.__version__"
   ]
  },
  {
   "cell_type": "code",
   "execution_count": 79,
   "id": "2b768f74-b99f-452e-ad89-270218f0872b",
   "metadata": {},
   "outputs": [
    {
     "data": {
      "image/png": "[encoded data removed]",
      "text/plain": [
       "<PIL.Image.Image image mode=RGB size=450x450>"
      ]
     },
     "metadata": {},
     "output_type": "display_data"
    }
   ],
   "source": [
    "#Custom function for eye styling. These create the eye masks\n",
    "\n",
    "def style_inner_eyes(img):\n",
    "  img_size = img.size[0]\n",
    "  eye_size = 70 #default\n",
    "  quiet_zone = 40 #default\n",
    "  mask = Image.new('L', img.size, 0)\n",
    "  draw = ImageDraw.Draw(mask)\n",
    "  draw.rectangle((60, 60, 90, 90), fill=255) #top left eye\n",
    "  draw.rectangle((img_size-90, 60, img_size-60, 90), fill=255) #top right eye\n",
    "  draw.rectangle((60, img_size-90, 90, img_size-60), fill=255) #bottom left eye\n",
    "  return mask\n",
    "\n",
    "def style_outer_eyes(img):\n",
    "  img_size = img.size[0]\n",
    "  eye_size = 70 #default\n",
    "  quiet_zone = 40 #default\n",
    "  mask = Image.new('L', img.size, 0)\n",
    "  draw = ImageDraw.Draw(mask)\n",
    "  draw.rectangle((40, 40, 110, 110), fill=255) #top left eye\n",
    "  draw.rectangle((img_size-110, 40, img_size-40, 110), fill=255) #top right eye\n",
    "  draw.rectangle((40, img_size-110, 110, img_size-40), fill=255) #bottom left eye\n",
    "  draw.rectangle((60, 60, 90, 90), fill=0) #top left eye\n",
    "  draw.rectangle((img_size-90, 60, img_size-60, 90), fill=0) #top right eye\n",
    "  draw.rectangle((60, img_size-90, 90, img_size-60), fill=0) #bottom left eye  \n",
    "  return mask  \n",
    "\n",
    "\n",
    "if not hasattr(PIL.Image, 'Resampling'):\n",
    "  PIL.Image.Resampling = PIL.Image\n",
    "# Now PIL.Image.Resampling.BICUBIC is always recognized.\n",
    "\n",
    "\n",
    "qr = qrcode.QRCode(version=5,error_correction=qrcode.constants.ERROR_CORRECT_H)\n",
    "\n",
    "qr.add_data('http://www.medium.com')\n",
    "\n",
    "qr_inner_eyes_img = qr.make_image(image_factory=StyledPilImage,\n",
    "                            eye_drawer=RoundedModuleDrawer(radius_ratio=1),\n",
    "                            color_mask=SolidFillColorMask( back_color=(0, 255, 255),front_color=(255, 0, 0)))\n",
    "\n",
    "qr_outer_eyes_img = qr.make_image(image_factory=StyledPilImage,\n",
    "                            eye_drawer=RoundedModuleDrawer(),\n",
    "                            color_mask=SolidFillColorMask(back_color=(0, 0, 255),front_color=(255, 255, 0)))                            \n",
    "\n",
    "qr_img = qr.make_image(image_factory=StyledPilImage,\n",
    "                       module_drawer=RoundedModuleDrawer(),embeded_image_url=\"https://secure.gravatar.com/avatar/41a6f9778d12dfedcc7ec3727d64a12491d75d9a65d4b9323feb075391ae6795?s=80&d=retro&r=pg\")\n",
    "\n",
    "inner_eye_mask = style_inner_eyes(qr_img)\n",
    "outer_eye_mask = style_outer_eyes(qr_img)\n",
    "intermediate_img = Image.composite(qr_inner_eyes_img, qr_img, inner_eye_mask)\n",
    "final_image = Image.composite(qr_outer_eyes_img, intermediate_img, outer_eye_mask)\n",
    "display(final_image)"
   ]
  },
  {
   "cell_type": "code",
   "execution_count": 10,
   "id": "a05c8b2e",
   "metadata": {},
   "outputs": [],
   "source": [
    "def rgb_to_rgb(rgb_color):\n",
    "    rgb_color = rgb_color.lstrip('rgb(')\n",
    "    rgb_color = rgb_color.rstrip(')')\n",
    "    return tuple(int(c) for c in rgb_color.split(\",\"))"
   ]
  },
  {
   "cell_type": "code",
   "execution_count": 12,
   "id": "8aceeef9",
   "metadata": {},
   "outputs": [
    {
     "data": {
      "text/plain": [
       "(255, 30, 30)"
      ]
     },
     "execution_count": 12,
     "metadata": {},
     "output_type": "execute_result"
    }
   ],
   "source": [
    "rgb_to_rgb(\"rgb(255, +30, +30)\")"
   ]
  },
  {
   "cell_type": "code",
   "execution_count": 36,
   "id": "351c4d98",
   "metadata": {},
   "outputs": [],
   "source": [
    "test = \"rgb%280%2C0%2C0%29\""
   ]
  },
  {
   "cell_type": "code",
   "execution_count": 31,
   "id": "08fc55dc",
   "metadata": {},
   "outputs": [
    {
     "name": "stdout",
     "output_type": "stream",
     "text": [
      "rgb%280%2C0%2C0%29\n",
      "%280%230\n"
     ]
    }
   ],
   "source": [
    "print(test)\n",
    "print(u\"%280%230\")"
   ]
  },
  {
   "cell_type": "code",
   "execution_count": 32,
   "id": "c2c8a606",
   "metadata": {},
   "outputs": [],
   "source": [
    "import urllib.parse"
   ]
  },
  {
   "cell_type": "code",
   "execution_count": 35,
   "id": "a9532e64",
   "metadata": {},
   "outputs": [
    {
     "data": {
      "text/plain": [
       "'rgb(0,0,0)'"
      ]
     },
     "execution_count": 35,
     "metadata": {},
     "output_type": "execute_result"
    }
   ],
   "source": [
    "urllib.parse.unquote(test)"
   ]
  },
  {
   "cell_type": "code",
   "execution_count": 34,
   "id": "ef65d5c4",
   "metadata": {},
   "outputs": [
    {
     "data": {
      "text/plain": [
       "'rgb%280%2C0%2C0%29'"
      ]
     },
     "execution_count": 34,
     "metadata": {},
     "output_type": "execute_result"
    }
   ],
   "source": [
    "test"
   ]
  },
  {
   "cell_type": "code",
   "execution_count": 37,
   "id": "496efce1",
   "metadata": {},
   "outputs": [
    {
     "data": {
      "text/plain": [
       "['rgb%280', '0', '0%29']"
      ]
     },
     "execution_count": 37,
     "metadata": {},
     "output_type": "execute_result"
    }
   ],
   "source": [
    "test.split(\"%2C\")"
   ]
  },
  {
   "cell_type": "code",
   "execution_count": 57,
   "id": "20101435",
   "metadata": {},
   "outputs": [],
   "source": [
    "def rgb_to_rgb(rgb_color):\n",
    "    rgb_color = urllib.parse.unquote(rgb_color)\n",
    "    rgb_color = rgb_color.lstrip('rgb(')\n",
    "    rgb_color = rgb_color.lstrip('rgb%28')\n",
    "    rgb_color = rgb_color.rstrip(')')\n",
    "    rgb_color = rgb_color.rstrip('%29')\n",
    "    \n",
    "    \n",
    "    if \"%\" in rgb_color:\n",
    "        return tuple(int(c) for c in rgb_color.split(\"%2C\"))\n",
    "    else:\n",
    "        return tuple(int(c) for c in rgb_color.split(\",\"))"
   ]
  },
  {
   "cell_type": "code",
   "execution_count": 60,
   "id": "b490102a",
   "metadata": {},
   "outputs": [
    {
     "data": {
      "text/plain": [
       "(30, 12, 300)"
      ]
     },
     "execution_count": 60,
     "metadata": {},
     "output_type": "execute_result"
    }
   ],
   "source": [
    "rgb_to_rgb(\"rgb(+30,12,300)\")"
   ]
  },
  {
   "cell_type": "code",
   "execution_count": 61,
   "id": "a7c744cd",
   "metadata": {},
   "outputs": [
    {
     "data": {
      "text/plain": [
       "'rgb%280%2C0%2C0%29'"
      ]
     },
     "execution_count": 61,
     "metadata": {},
     "output_type": "execute_result"
    }
   ],
   "source": [
    "test"
   ]
  },
  {
   "cell_type": "code",
   "execution_count": 84,
   "id": "cd30d0e7",
   "metadata": {},
   "outputs": [],
   "source": [
    "import requests\n"
   ]
  },
  {
   "cell_type": "code",
   "execution_count": 89,
   "id": "23efa976",
   "metadata": {},
   "outputs": [],
   "source": [
    "test=requests.get(\"https://es.digitaltrends.com/wp-content/uploads/2024/04/Logo-Apple.-.jpg?fit=720%2C480&p=1\")"
   ]
  },
  {
   "cell_type": "code",
   "execution_count": 92,
   "id": "7f1a1970",
   "metadata": {},
   "outputs": [],
   "source": [
    "from io import BytesIO\n"
   ]
  },
  {
   "cell_type": "code",
   "execution_count": 93,
   "id": "be1b9c03",
   "metadata": {},
   "outputs": [
    {
     "data": {
      "text/plain": [
       "b'\\xff\\xd8\\xff\\xe0\\x00\\x10JFIF\\x00\\x01\\x01\\x00\\x00\\x01\\x00\\x01\\x00\\x00\\xff\\xdb\\x00C\\x00\\x04\\x02\\x03\\x03\\x03\\x02\\x04\\x03\\x03\\x03\\x04\\x04\\x04\\x04\\x05\\t\\x06\\x05\\x05\\x05\\x05\\x0b\\x08\\x08\\x06\\t\\r\\x0b\\r\\r\\r\\x0b\\x0c\\x0c\\x0e\\x10\\x14\\x11\\x0e\\x0f\\x13\\x0f\\x0c\\x0c\\x12\\x18\\x12\\x13\\x15\\x16\\x17\\x17\\x17\\x0e\\x11\\x19\\x1b\\x19\\x16\\x1a\\x14\\x16\\x17\\x16\\xff\\xdb\\x00C\\x01\\x04\\x04\\x04\\x05\\x05\\x05\\n\\x06\\x06\\n\\x16\\x0f\\x0c\\x0f\\x16\\x16\\x16\\x16\\x16\\x16\\x16\\x16\\x16\\x16\\x16\\x16\\x16\\x16\\x16\\x16\\x16\\x16\\x16\\x16\\x16\\x16\\x16\\x16\\x16\\x16\\x16\\x16\\x16\\x16\\x16\\x16\\x16\\x16\\x16\\x16\\x16\\x16\\x16\\x16\\x16\\x16\\x16\\x16\\x16\\x16\\x16\\x16\\x16\\x16\\xff\\xc2\\x00\\x11\\x08\\x01\\xe0\\x02\\xd0\\x03\\x01\"\\x00\\x02\\x11\\x01\\x03\\x11\\x01\\xff\\xc4\\x00\\x1c\\x00\\x01\\x00\\x02\\x02\\x03\\x01\\x00\\x00\\x00\\x00\\x00\\x00\\x00\\x00\\x00\\x00\\x00\\x07\\x08\\x05\\x06\\x01\\x02\\x04\\x03\\xff\\xc4\\x00\\x14\\x01\\x01\\x00\\x00\\x00\\x00\\x00\\x00\\x00\\x00\\x00\\x00\\x00\\x00\\x00\\x00\\x00\\x00\\xff\\xda\\x00\\x0c\\x03\\x01\\x00\\x02\\x10\\x03\\x10\\x00\\x00\\x01\\x9f\\xc0\\x00\\x00\\x00\\x00\\x00\\x00\\x00\\x00\\x00\\x00\\x00\\x00\\x00\\x00\\x00\\x00\\x00\\x00\\x00\\x00\\x00\\x00\\x00\\x00\\x00\\x00\\x00\\x00\\x00\\x00\\x00\\x00\\x00\\x00\\x00\\x00\\x00\\x00\\x00\\x00\\x00\\x00\\x00\\x00\\x00\\x00\\x00\\x00\\x00\\x00\\x00\\x00\\x00\\x00\\x00\\x00\\x00\\x00\\x00\\x00\\x00\\x00\\x00\\x00\\x00\\x00\\x00\\x00\\x00\\x00\\x00\\x00\\x00\\x00\\x00\\x00\\x00\\x00\\x00\\x00\\x00\\x00\\x00\\x00\\x00\\x00\\x00\\x00\\x00\\x00\\x00\\x00\\x00\\x00\\x00\\x00\\x00\\x00\\x00\\x00\\x00\\x00\\x00\\x00\\x00\\x00\\x00\\x00\\x00\\x00\\x00\\x00\\x00\\x00\\x00\\x00\\x00\\x00\\x00\\x1e\\x18\\xb0\\x98UvE%\\xd0\\x00\\x00\\x00\\x00\\x00\\x00\\x00\\x00\\x00\\x00\\x00\\x00\\x00\\x00\\x00\\x00\\x00\\x00\\x00\\x00\\x00\\x00\\x00\\x00\\x00\\x00\\x00\\x00\\x00\\x00\\x0c\\x11\\x95\\x82\\xa2\\xdd<\\xf7\\xf8\\x01`\\xab\\xed\\x9f&\\x00\\x00\\x00\\x00\\x00\\x00\\x00\\x00\\x00\\x00\\x00\\x00\\x00\\x00\\x00\\x00\\x00\\x00\\x00\\x00\\x00\\x00\\x00\\x00\\x00\\x00\\x00\\x00\\x00\\x00\\x03\\x83\\x17Nvx\\xd0\\x00\\x0en\\xd5a\\xb8@\\x00\\x00\\x00\\x00\\x00\\x00\\x00\\x00\\x00\\x00\\x00\\x00\\x00\\x00\\x00\\x00\\x00\\x00\\x00\\x00\\x00\\x00\\x00\\x00\\x00\\x00\\x00\\x00\\x00\\x022\\x93j\\x01\\x1f\\x80\\x07<N$\\xa1\\xbf\\x00\\x00\\x00\\x00\\x00\\x00\\x00\\x00\\x00\\x00\\x00\\x00\\x00\\x00\\x00\\x00\\x00\\x00\\x00\\x00\\x00\\x00\\x00\\x00\\x00\\x00\\x00\\x00\\x00\\x00\\x066\\x8a[\\xfa|\\x00s6\\x98KQ\\xc7\\xd4\\x00\\x00\\x00\\x00\\x00\\x00\\x00\\x00\\x00\\x00\\x00\\x00\\x00\\x00\\x00\\x00\\x00\\x00\\x00\\x00\\x00\\x00\\x00\\x00\\x00\\x00\\x005\\xc8\\xc4\\x9cUw\\n[\\xc5I\\xdb\\x0b\\x14\\x8d\\xe4#\\xec\\x08\\xd6\\xa5_l1J$K[\\xe84-\\xf7\\xcb\\x1c\\x12\\x8a\\xb5\\xea\\x05\\xc3R\\x7fQs\\x95Gt\\'\\xa6\\xa5\\xb6\\x80\\x00\\x00\\x00\\x00\\x00\\x00\\x00\\x00\\x00\\x00\\x00\\x00\\x00\\x00\\x00\\x00\\x00\\x00\\x00\\x00\\x00\\x00\\x01\\xc4\\x1eH\\x95\\xde;\\xf8\\x9c\\xf0\\x00\\x00\\xc9cD\\xd3+\\xd3\\xf1~\\xbaQN\\xa5\\xac\\x8a\"\\x01\\xed\\xf1\\x00\\x00\\x00\\xde\\xf4Aqw\\xaa\\x05`\\t\\xf5\\xc7 \\x00\\x00\\x00\\x00\\x00\\x00\\x00\\x00\\x00\\x00\\x00\\x00\\x00\\x00\\x00\\x00\\x00\\x00\\x00\\x00\\x00\\x88\\rb\\x06\\x00\\x00\\x00\\x00\\x00\\x00\\x00\\x00\\x00\\x00\\x00\\x9f,\\x1d<\\xb7G\\xa4\\x00\\x00\\x00\\x00\\x00\\x00\\x00\\x00\\x00\\x00\\x00\\x00\\x00\\x00\\x00\\x00\\x00\\x00\\x00\\x00\\x06\\x1a\\x94K\\xb0\\x98\\x00\\x00\\x00\\x00\\x00\\x00\\x00\\x00\\x00\\x00\\t\\xbb\\xad\\x92:}\\x00\\x00\\x00\\x00\\x00\\x00\\x00\\x00\\x00\\x00\\x00\\x00\\x00\\x00\\x00\\x00\\x00\\x00\\x00\\x00\\x00x\\xbd\\xb1QX|`\\x00\\x00\\x00\\x00\\x00\\x00\\x00\\x00\\x00\\x03q\\xd3\\xad\\xb1\"}@\\x00\\x00\\x00\\x00\\x00\\x00\\x00\\x00\\x00\\x00\\x00\\x00\\x00\\x00\\x00\\x00\\x00\\x00\\x00\\x00\\x01[,\\x9dC#\\xc0\\x00\\x00\\x00\\x00\\x00\\x00\\x00\\x00\\x00\\x01\\x9a\\xbcu^\\xd5\\x00\\x00\\x00\\x00\\x00\\x00\\x00\\x00\\x00\\x00\\x00\\x00\\x00\\x00\\x00\\x00\\x00\\x00\\x00\\x00\\x00\\x00)=\\xd8\\xa4\\x06\\xbe\\x00\\x00\\x00\\x00\\x00\\x00\\x00\\x00\\x00\\x00\\';\\x19^l0\\x00\\x00\\x00\\x00\\x00\\x00\\x00\\x00\\x00\\x00\\x00\\x00\\x00\\x00\\x00\\x00\\x00\\x00\\x00\\x00\\x00\\x02\\x90\\xdd\\xeaZj@\\x00\\x00\\x00\\x00\\x00\\x00\\x00\\x00\\x00\\x02g\\xb3\\x14\\xee\\xe2\\x00\\x00\\x00\\x00\\x00\\x00\\x00\\x00\\x00\\x00\\x00\\x00\\x00\\x00\\x00\\x00\\x00\\x00\\x00\\x00\\x00\\x00*U\\xb5\\xae$\\x1c\\x00\\x00\\x00\\x00\\x00\\x00\\x00\\x00\\x00\\x00>\\x97\\x9a\\x8a\\xcf\\xc5\\x81\\x00\\x00\\x00\\x00\\x00\\x00\\x00\\x00\\x00\\x00\\x00\\x00\\x00\\x00\\x00\\x00\\x00\\x00\\x00\\x00\\x00\\x02#\\x970\\x05\\x1f\\x00\\x00\\x00\\x00\\x00\\x00\\x00\\x00\\x00\\x00\\x0f_\\x90]\\x8d\\x9e\\x94\\\\\\x13,\\x00\\x00\\x00\\x00\\x00\\x00\\x00\\x00\\x00\\x00\\x00\\x00\\x00\\x00\\x00\\x00\\x00\\x00\\x00\\x00\\x00\\nU\\xaa\\xcf\\xf0\\x00\\x00\\x00\\x00\\x00\\x00\\x00\\x00\\x00\\x00\\x00\\r\\x9bY\\x17[i\\xa1S\\xa9`\\x1e\\x1fp\\x00\\x00\\x00\\x00\\x00\\x00\\x00\\x00\\x00\\x00\\x00\\x00\\x00\\x00\\x00\\x00\\x00\\x00\\x00\\x00kt\\x9a\\xfe\\xd4r8\\x00\\x00\\x00\\x00\\x00\\x00\\x00\\x00\\x00\\x00\\x00>\\x9f94\\xb39\\x90\\x00\\x00\\x00\\x00\\x00\\x00\\x00\\x00\\x00\\x00\\x00\\x00\\x00\\x00\\x00\\x00\\x00\\x00\\x00\\x00\\x11\\xec\\x84(\\x02A\\x8f\\x80\\x00\\x00\\x00\\x00\\x00\\x00\\x00\\x00\\x00\\x00[\\xda\\xff\\x00pN@\\x00\\x00\\x00\\x00\\x00\\x00\\x00\\x00\\x00\\x00\\x00\\x00\\x00\\x00\\x00\\x00\\x00\\x00\\x00\\x00\\x01\\xa8\\xd3+\\xf7^\\xc8\\x10\\x00\\x00\\x00\\x00\\x00\\x00\\x00\\x00\\x00\\x0e\\xddf\\xf2[\\xdd@\\x00\\x00\\x00\\x00\\x00\\x00\\x00\\x00\\x00\\x00\\x00\\x00\\x00\\x00\\x00\\x00\\x00\\x00\\x00\\x00\\x00\\x07\\xcb\\xea)\\xc6\\x8fxi\\x99\\x8a\\x00\\x00\\x00\\x00\\x00\\x00\\x00\\x00\\x0fi\\x9e\\xb9Z\\xfe\\xd4\\x00\\x00\\x00\\x00\\x00\\x00\\x00\\x00\\x00\\x00\\x00\\x00\\x00\\x00\\x00\\x00\\x00\\x00\\x00\\x00\\x00\\x00\\x00\\r\\x17z\\x14/\\xc9p\\xaa\\x81\\x8c\\x00\\x00\\x19y\\x1c\\x88V; V\\x15\\x91\\xd4\\x08u\\x9b\\xc2\\x00\\x00=\\x87\\x9e\\xd7\\xf4\\x93\\xc0\\x00\\x00\\x00\\x00\\x00\\x00\\x00\\x00\\x00\\x00\\x00\\x00\\x00\\x00\\x00\\x00\\x00\\x00\\x00\\x00\\x00\\x00\\x00\\x00\\x18<\\xe0\\xab\\xf1m\\xf2\\xe8PL\\xb5\\xdd\\xf5\\x15nZ\\x92\\xc7N\\xe0\\x00\\x1dc\\xa9\\x1cU\\xf8\\xfe\\xf0\\n\\r\\xef\\xbc\\xfd\\xca\\xc3>l@\\x00\\x00\\x00\\x00\\x00\\x00\\x00\\x00\\x00\\x00\\x00\\x00\\x00\\x00\\x00\\x00\\x00\\x00\\x00\\x00\\x00\\x00\\x00\\x00\\x00\\x00\\x00\\x00\\x00\\x00\\x00\\x00\\x00\\x00\\x00\\x00\\x00\\x00\\x00\\x00\\x00\\x00\\x00\\x00\\x00\\x00\\x00\\x00\\x00\\x00\\x00\\x00\\x00\\x00\\x00\\x00\\x00\\x00\\x00\\x00\\x00\\x00\\x00\\x00\\x00\\x00\\x00\\x00\\x00\\x00\\x00\\x00\\x00\\x00\\x00\\x00\\x00\\x00\\x00\\x00\\x00\\x00\\x00\\x00\\x00\\x00\\x00\\x00\\x00\\x00\\x00\\x00\\x00\\x00\\x00\\x00\\x00\\x00\\x00\\x00\\x00\\x00\\x00\\x00\\x00\\x00\\x00\\x00\\x00\\x00\\x00\\x00\\x00\\x00\\x00\\x00\\x00\\x00\\x00\\x00\\x00\\x00\\x00\\x00\\x00\\x00\\x00\\x00\\x00\\x00\\x00\\x00\\x00\\x00\\x00\\x00\\x00\\x00\\x00\\x00\\x00\\x00\\x00\\x00\\x00\\x00\\x00\\x00\\x00\\x00\\x00\\x00\\x00\\x00\\x00\\x00\\x00\\x00\\x00\\x00\\x00\\x00\\x00\\x00\\x00\\x00\\x00\\x00\\x00\\x00\\x00\\x00\\x00\\x00\\x00\\x00\\x00\\x00\\x00\\x00\\x00?\\xff\\xc4\\x00+\\x10\\x00\\x01\\x03\\x03\\x03\\x03\\x03\\x04\\x03\\x01\\x00\\x00\\x00\\x00\\x00\\x00\\x05\\x03\\x04\\x06\\x01\\x02\\x07\\x00@P\\x15 `\\x11\\x12\\x13\\x10\\x14!0\\x17$\\x90%\\xff\\xda\\x00\\x08\\x01\\x01\\x00\\x01\\x05\\x02\\xff\\x00*\\x1f\\xbch\\xc9\\x12\\xf9\\x0cSz\\xbd\\xc8f\\x94\\xbb\\x16\\x1c\"c\\xc5],\\x8bd%9\\x07\\xd2\\xa4^\\xbb~\\xbf\\xd3\\x07[_g\\x89\\xc8\\x0b3\\x0c>Y#~u\\xcff\\x18o\\xf1\\xc6\\xbcH\\xd1\\x06\\xc2\\xc6\\xca\\x0c\\xba6O\\xb2\\x9f\\x9a\\xc4X\\xf4\\xe8\\xdf\\x89d\\xa9\\x05K\\x96\\xed\\xc7\\x02\\xba\\xa4\\x9b\\xc4\\xb2\\x91\\x9e\\x98\\x03\\xb6\\xdaV\\xeb\\xb1\\xd8N\\x8a\\x0b\\xc4\\xb2Y*\\x91\\x95\\xf6\\xe2\\x98\\xd7\\xce\\xb7\\x89\\x18uF\"\\xae\\xadn\\xbb\\xb3\\x1e\\xc5\\x14.\\xbaVX\\x9a~%\\x93U\\xf8\\xa1_ZR\\xb5\\xac\"\\x0c\\xab\\x8b\\x91N\\xc4\\x92\\xf1<\\xb1J\\xd6\\x17\\xa4\\x11Uu\\x02A\\xcd\\xbf\\xacb$(7\\x86\\x19<$^\\x88\\xe4\\x86vi\\xd6D4\\xa6\\xaf\\x9b\\xc9n\\xd3y\\xdc\\x8d:\\x8f\\xc9.)p\\xa9\\xc0\\x17\\x9aAT\\xd6K\\xe8\\xe9\\x04\\\\\\xa1`\\x10\\xb6U\\x04\\x11F\\xdd;p\\x83TJ\\xcfA\\xb4\\xd1\\x0c\\x8eB\\xfa\\xb9\\x99H\\xd6\\xba\\xe9\\x11\\xda\\xd5\\x19T\\x85=2\\x9f\\x9fGCrJU\\xd0i(Ru\\xf0\\x19,\\x88`D\\xa4sb\\xe4\\xab_\\xcd{\\x87\\x10z\\xc1P\\xb9\\x15\\xfa:\\x112\\x02\\xff\\x00H\\xa8\\x9a\\xb68]\\x14,/8\\x04\\xcbF\\xb2\\x11G:|\\xed\\xd3\\xd5\\xbfDv\\\\`Mb\\xb2\\xb1\\x86\\xe9\\xcfN\\xa7\\x16\\xb6\\xab\\x85U]o\\xd6\\xd5\\xdb\\xa6\\xd5t\\xe5\\xcb\\x9b\\xbfe\\x97]e\\xf09\\xbf\\xba\\xees%\\xcb\\xabu\\xdb\\xdc_+\\xaf\\xbf\\x9a\\xcaR:\\x8ei\\xbe\\x88E\\x88\\x9bQ\\x9aUE\\xaf0|\\x8a\"\\x84\\x93v\\xb3\\xf2\\x1b\\xd8\\x04*\\xae\\xe8\\x95\\x96&\\x9f3\\x99\\x0b\\xfc\\xe4w\\xb8\\xbe-G\\x97sD\\\\\\xd8\\xcd\\x81\\x07\\n<}\\xbc\\x83\\x85\\xb8\\xd9\\xc4S\\xb1$y\\xac\\xbc\\xf7\\xed\\xa2\\xbb\\xdc\\\\*\\x83\\xa3\\\\\\xdelu\\xef/\\xbc\\x8e2\\xa9\\x13\\x96\\xd2\\x96\\xdb\\xcd\\xe5%\\xfei\\xa6\\xf3\\x0f6\\xa2\\xd2\\xderkuo\\x96\\xef0\\x85\\x9f\\xf49\\xc9_\\xe6M\\xbc\\xc1\\xf5\\xfe\\xc79-\\xa7\\xa4\\xa3y\\x84\\xd5\\xf4?\\xceN\\xd3\\xf8\\xa6\\x1b\\xccl\\xef\\xed&<\\xe6YG\\xe2\\x99\\xef\\x11\\xbe\\xe4\\x95\\x08\\xf6\\xc2\"y\\xbc\\xdc\\xdb\\xdaK{\\x86\\x8c\\xd2\\x9c\\xe6di\\xf3F7\\xac\\\\\\xac\\xcd\\xe4L\\xca\\x07\\x04sR\\x86t\\x7f\\x1e\\xdfD\\xcd\\xb9\\x04L)\\x16\\xa5G\\xf3Sv=:S\\xbe\\x8b\\x9cz\\r\\xec`\\xf8\\xf3\\x8d\\xb9\\x9c\\xd8;\\x80f\\xe1v\\x8e#\\x19\\x0b\\xf0=\\xdbg\\xcd9yh\\xea\\x15\\x8f]J\\xdbv\\xfd\\x1b.UX\\xf3\\x1bF\\x84\\xe62\\x80\\xae\\x9d&\\xdf\\xe2\\x91\\x7f\\x7f&\\xe6rP\\x8e\\xab\\x1c\\xdf\\xe3Q=.5\\xcdd\\x80\\xbd \\xfe\\xf7\\x1d\\x06\\xeb\\x12\\x1enj\\x1a\\xc3`\\x96N\\xf4\\x96\\xdd\\xd9mn\\xba\\x06\\x16\\x81\\x01s\\x99r=\\xe9v\\xef\\x12G\\xfe\\xe1\\xcf:\\xbav,\\x8c\\xf0\\x05\\xe0\\x8b\\xeea\\xc1\\x168a\\x9bt\\x9a\\xb5\\xe7\\xa4\\x82\\x9b\\x99\\x14hs\\x91dv\\xe3\\x9a.\\xf9\\xec@\"\\x00\\xc4\\xf8\\x04\\xe6:\\x89\\xe1\\xef\\x9b.\\xcd\\xde\\xd5\\x14\\xefU\\\\y\\x18\\xb0+O\\x02\\x9bF\\x1b\\x1elY\\x83\\xb1\\xaf{\\x85\\x8b\"F\\xe1\\xd8\\xec\\xc2\\xd4o\\x8dY\\xd2\\x9f\\xc7!\\xbd\\xab\\xe3f\\x15\\xa1\\x0ctY-\\x15\\x10Lm{\\x985p\\xf5\\xd4\\x0e$\\x88[<\\x10\\xe8\\x96\\x05\\xdaH`\\x04\\x9a\\xdc\\xed\\x9b\\xb6\\xaaR\\x95\\xd3\\x11D\\x9e\\xde\\'\\x1f\\x18s\\xa0\\x90p\\x8c5e\\xb6\\xd9gm\\xd4\\xa5\\xd6\\x9b\\x84\\x83!\\xa2\\xd8\\xf0\\xb2\\x1a~\\x10\\xbb*\\xd5%iVC\\x08\\xbb\\xbc\\x16>&\\xe6\\xe8\\xf0A\\xc1[\\xf8=\\xf6\\xdb}(\\xd9\\xb5+\\xfbkm\\xb5\\xaf\\xfbS\\xff\\xc4\\x00\\x14\\x11\\x01\\x00\\x00\\x00\\x00\\x00\\x00\\x00\\x00\\x00\\x00\\x00\\x00\\x00\\x00\\x00\\xa0\\xff\\xda\\x00\\x08\\x01\\x03\\x01\\x01?\\x01(\\xdf\\xff\\xc4\\x00\\x14\\x11\\x01\\x00\\x00\\x00\\x00\\x00\\x00\\x00\\x00\\x00\\x00\\x00\\x00\\x00\\x00\\x00\\xa0\\xff\\xda\\x00\\x08\\x01\\x02\\x01\\x01?\\x01(\\xdf\\xff\\xc4\\x00J\\x10\\x00\\x02\\x01\\x01\\x02\\x06\\r\\x08\\x06\\x08\\x07\\x01\\x00\\x00\\x00\\x00\\x01\\x02\\x03\\x04\\x00\\x11\\x05\\x121APQ\\x13!\"#@`aq\\x81\\x91\\xa1\\xc1\\xd1\\x14 $2BRb\\xb1\\x10\\x150CSr34c\\x82\\x90\\x93\\xa2\\xf0DTdst\\x92\\xe1\\xc2\\xff\\xda\\x00\\x08\\x01\\x01\\x00\\x06?\\x02\\xfe\\x15\\x1b-]DP\\xa6\\xb7k\\xad\\x8bE\\x04\\xb5g_\\xa8\\xb6>O\\x154\\x0b\\xf9q\\x8d\\xab~\\xb0\\x9bd1\\xe2bn@\\xbb/\\x15Zy\\xe4X\\xe3A{3\\x1b\\x80\\xb3S\\xe0D\\xe4\\xf2\\x89\\x07\\xc8x\\xd8\\xcdYQ$\\xces\\xb9\\xfap\\x83\\xe6\\xbd\\x07\\xcf\\x8a\\x86\\xaa\\xb1\\xee\\x1e\\xca\\x8c\\xaeu\\x0b_3b@\\xa7{\\x85r\\x0f\\x13\\xe6\\xcb=\\xdf\\xa6\\x9c\\xf6\\x0e)\\xc9[T\\xd7G\\x18\\xe9c\\xa8Y\\xaa\\xaa\\r\\xcb\\x928\\xef\\xdaA\\xe6\\xdc-GHE\\xcc\\x91\\xee\\xbf1\\xdb?>)\\x9ax\\x1f\\xd1)I\\tw\\xb6s\\xb7\\x9d\\x16:\\xdf\\r>\\xfb\\'FA\\xd7\\xc53\\x04/uEf\\xe1n\\xcc\\xb9\\xcf\\x9dp\\x17\\x93e\\x12\\xad\\xd55\\x1b\\xb9\\xb95\\x0e\\x8e)\\xcdq\\xbe:m\\xe5:2\\xf6\\xf9\\xcb\\x86kSz\\x8c\\xfa:\\x9fh\\xfb\\xdcS\\xa8\\xac?q\\x11{\\x16cy9O\\x9a+k\\x14\\xad\\n\\x1f\\xe6\\x9d\\\\\\xd6\\x11\\xc6\\xa1UE\\xc0\\x0c\\xdcS\\xac\\xf8\\xc2\\xaf\\xf5\\x0f2\\xe0/&\\xc9[\\x86P\\xc7\\x0eU\\x83\\xda~}B\\xcb\\x1cj\\x15\\x14\\\\\\xaa2\\x0e*OvgO\\x9f\\xd0\\x12\\x18\\x9eF9\\x02-\\xe6\\xc1\\xa6\\x8b\\xc8\\xe3\\xf7\\xa6\\xcb\\xff\\x00[\\tU<\\xa2\\xa0}\\xf4\\xa3\\'0\\xcd\\xc4\\xcb\\xabkcG\\xf7\\x06\\xdbuX\\x8a\\x1a\\te\\xe5\\x95\\xb1G}\\xb7\\xa8ia\\xe6R~v\\xfd|/4)\\xe1m\\xd5Tr\\xf2<+\\xddk\\xabptn5\\xc4\\xd7\\x1e\\xdb\\\\\\xf3\\xbd+j\\x9dn\\xed\\x16\\x12C\"\\xc8\\x87#)\\xbc}&\\x1a\\x88\\x92X\\xdb*\\xb8\\xbc\\x1b^\\xb8*\\x93\\xf9B\\xd7C\\nF5*\\xdd\\xf4\\x19jfH\\x90{N\\xd7\\x0bb\\xc2\\xd2\\xd5\\xb7\\xec\\x97k\\xac\\xd8\\x8a:(!\\x19\\x8b\\x92\\xc6\\xd7\\xfdb\\xc9\\xc8\\x88\\xa3\\xba\\xd7\\x9c+U\\xfc\\xcbnp\\xac\\xff\\x00\\xbdq\\xf9\\xdb}x*\\x07\\xc7\\x1d\\xdf+\\xadu~\\x0ee\\xf8\\xa0k\\xfb\\r\\x82\\xd3V\\xa6\\xc8~\\xed\\xf7-\\xc4/J\\x97\\x1a_f\\x14\\xdbc\\xe1c\\x1c/\\xe4p{\\xb1\\x1d\\xd1\\xe76\\xbc\\xf9\\xfb%\\x15T\\xb07\\xc0\\xd7_`\\x98F\\x9a:\\x95\\xf7\\xd3r\\xde\\x16\\x0b\\xe5~O!\\xf6\\'\\x18\\xbd\\xb9-\\x8f\\x14\\x8a\\xeas\\xa9\\xbe\\xd8\\xf3\\xcc\\x91\\xae\\xb7k\\xacV9\\x9a\\xaaA\\xec\\xc26\\xba\\xf2X\\xa5\\x0cQ\\xd2!\\xf6\\xbdg\\xf0\\xb6\\xcbWQ$\\xcf\\xef;_\\xf6!\\x16m\\x9e\\x01\\xf7Sm\\x8e\\x8dV\\x11\\xa3\\xec\\x159\\xe1\\x93\\xb8\\xe7\\xd3\\xefA\\x81\\x99^\\\\\\x8fQ\\x94\\'\\xe5\\xd7f\\x96i\\x1aI\\x1c\\xde\\xcc\\xc6\\xf2~\\xd2\\xfaj\\x99\\xa1\\xff\\x00m\\xca\\xdb\\x1a\\xa2\\xa2Y\\x8e\\xb9\\x1c\\xb7\\xda\\x87F*\\xcao\\x04f\\xb2Pa\\xa99#\\xa9\\'\\xb1\\xbct\\xeb\\xe0\\x9c\\x17.\\xe7$\\xf3.\\x7f\\x84p\\xe4\\xc0\\xd8JK\\xc1\\xda\\xa7\\x95\\xb3|\\'M\\xfd[F\\xf7UN7l>\\xed|xx\\x957\\x8a`v\\xe7n\\xedv\\x8e\\x16\\x95\\xe5(\\xa1q\\xdf+r\\x9d35t\\xf9\"]\\xa1\\xef\\x1c\\xc2\\xd2\\xd6T64\\x9361\\xe1\\xc9\\x84p\\xba\\x15\\x87,p\\x1c\\xaf\\xcay,#\\x8dB*\\x8b\\x82\\xa8\\xb8\\r5\\x1e\\t\\x89\\xb7\\x14\\xfb\\xa9yX\\xe4\\xea\\x1f>\\x1c0\\xb6\\x10\\x8e\\xf8\\x14\\xef\\x11\\x9f\\xbc:\\xcf&\\x9b\\x9a\\xaaOV\\x14.z-5T\\xa7w3\\x97n\\x9e\\x1a\\x90\\x10v\\x08\\xf7s\\xb6\\xa1\\xab\\xa6\\xcb\\x14j\\x15\\x10b\\xa8\\x19\\x86\\x9b\\xf2pnj\\xb9\\x02t\\r\\xb3\\xc3\\x92g]\\xfa\\xb3|nl\\xc3\\xfb\\xd7\\xa7)(\\xc6H\\xa1\\xc7=\\'\\xff\\x008m-\\x17\\xe3H\\x01\\xe6\\xcf`\\xaa.\\x03 \\xd3\\x95#\\xf0\\x82\\xa7g\\r\\xd9O\\xf8x\\x19\\xfav\\x87~\\x9d\\xc2$\\xff\\x00\\x99o\\x9f\\r\\xae\\x93Tj;t\\xed\\x7f\\xfc\\x97\\xf9\\xf0\\xdc \\xbf\\nw\\xe9\\xdc ?\\xd4\\xbf\\xcf\\x86\\xd5C\\x7f\\xafM\\x7fS\\x0f\\x1d;\\x84\\x17\\xf6\\xe5\\xba\\xf6\\xf8m#\\x13r\\xcaLg\\xa7\\xff\\x00n\\xd3\\xb2\\xb7\\xe2\\xc6\\x8f\\xd9ww\\rY\\x10\\xdc\\xc8o\\x06\\xd4\\xf5\\xd1\\xe4\\x99\\x03]\\xabNQU\\xfe$F>\\xa3\\x7f\\x7f\\x0e\\x93\\x02\\xcc\\xd9N\\xc9\\x07x\\xef\\xd3\\x89S\\x9e\\x9a`z\\x0e\\xd7\\x87\\x0e\\x8e\\xaa\\x9d\\xf1d\\x89\\xb1\\x94\\xd9*\\xa2\\xb88\\xda\\x9a?q\\xb4\\xdde%\\xd7\\xec\\x91\\x1c^|\\xa3\\xb7\\x87\\x8a\\x98wQ\\xb6\\xd4\\xb1\\xe6qd\\xac\\xa3\\x93\\x19\\x1f\\xadN\\xa3\\xa6\\xeb)\\xfd\\x9d\\x93\\x1d9\\x8e\\xd8\\xe1\\xfb=+^\\xad\\xfaH\\x9b\\xd5{l\\x94\\xb2] \\xf5\\xe1oYt\\xd5.\\x14E\\xfd\\x94\\x87\\xb5{\\xf4\\x02\\xcfM+\\xc5*z\\xac\\x86\\xe2,\\xb0a\\xa8\\xb9<\\xa21\\xf3\\x16Z\\xaaI\\x96X\\x9f#.\\x98\\xa9\\xa3\\xba\\xf7d\\xbe?\\xcc2X\\xa9\\xca2\\xe8\\x05\\x8a1{9\\xc5Q\\xac\\xda\\x9a\\x85G\\xe8c\\x00\\xf3\\xe7\\xed\\xd3/\"-\\xd0\\xd5\\xef\\xa9\\xcf\\x9f\\xb7@-C\\xad\\xf1Qo\\x87\\xf3{?\\xdf&\\x9a}\\x8do\\x9e\\x9b|\\x8e\\xec\\xa7X\\xd0\\x11\\x99\\x16\\xe9\\xea\\xb7\\xd95\\xf2\\r6\\xc6%\\xba\\x9a\\xa7|\\x8b\\x93Z\\xf0\\xe4\\x12-\\xf4\\xf4\\xfb\\xe4\\xbd\\xc3NIM\\xb5\\xb3.\\xee\\x16\\xd4\\xd6h\\xa4R\\xae\\x87\\x15\\x94\\xe6<0*\\x82I\\xda\\x00Y!q\\xe9\\x12\\xee\\xe6<\\xba\\xb4\\xef\\xd7t\\x89\\xb4\\x7fYP?\\xab\\x86}sT\\x9b\\xd4G\\xd1\\xc1\\xf6\\x9b_F\\x9eh\\xa5P\\xc8\\xe3\\x15\\x94\\xe7\\x16*\\xa0\\x9aY\\xb7P7w\\nJe\\xbcD\\xbb\\xa9\\x9f\\xdd_\\x1bGO\\x02\\x04\\x8e%\\xc5U\\x19\\xb4\\xfb\\xd1T\\x0c\\xbbh\\xd9\\xd1\\xb5\\xdaJ*\\xb4\\xc5t\\xeaa\\xacp\\x88\\xe9)\\xa3/,\\xa6\\xe5\\x16Zh\\xf7R\\xb6\\xdc\\xd2{\\xcd\\xc4\\x1d\\xab\\x92\\xae!\\xbc\\xc9\\xff\\x00\\xc9\\xe4\\xb3\\xd3T\\xc6c\\x963s)\\xe0\\xcb\\x14H]\\xdc\\xdc\\xaa\\x06\\xd9\\xb7\\x94\\xd4\\xa8j\\xd9F\\xe8\\xfe\\x18\\xf7G\\x10\\xf1\\xc5\\xd1V \\xde\\xe5\\xd7\\xc8y,\\xd4\\xb5\\x91\\x18\\xe4^\\xdeQ\\xe7\\xddCG,\\xdc\\xaa\\xbbC\\xa6\\xc1\\xaaf\\xa7\\xa7\\x1a\\xaf\\xc6o\\xef\\xa6\\xdb\\xfe\\x12\\x9d\\x8f\\xc0\\x80[\\xf5\\x9a\\xbe|a\\xe1m\\xe7\\x08\\xd4)\\xf8\\x945\\x8bR\\xd4\\xd3\\xd4\\x01\\x98\\x92\\xad\\xe1oN\\xa2\\x96\\x11\\xef\\x11\\xb5\\xd7\\xe7\\xad5,M,\\xaf\\x91V\\xc2\\xae\\xab\\x16Z\\xe22\\xe6\\x8f\\x9b\\xc7\\x88\\xbeO]\\x08q\\xec\\xb7\\xb4\\x9c\\xc6\\xc6L\\x1a|\\xb2/w#\\x8f\\x1b\\x14\\xa8\\xa6\\x96&\\x19\\x9d\\x08\\xfa1ihg\\x97\\xf2\\xa1\\xb65cEH\\xbc\\xa7\\x19\\xbb,\\x1eX\\xda\\xb2Msd\\xea\\xb0TP\\xaa2\\x01\\x9b\\xce*\\xc0\\x10r\\x83b\\xe9\\x11\\xa4\\x93\\xde\\x83huX\\xb5\\x14\\xb1U\\xae\\xab\\xf1\\x1b\\xb6\\xde\\x93\\x83\\xaa\\x12\\xec\\xf8\\x97\\x8e\\xbb\\\\c~\\xabb\\xd3P\\xcf!\\xf8c6\\x0f\\x84]i#\\xce\\xb7\\xe39\\xee\\xb6\\xc5C\\r\\xc4\\xfa\\xf26\\xdb?9\\xe2E\\xcc\\xa1\\x87(\\xb5\\xe2\\x9e!\\xfb\\x83\\xed\\xb6\\xc0\\xfe5_\\xff\\xc4\\x00,\\x10\\x01\\x00\\x01\\x02\\x03\\x08\\x02\\x02\\x02\\x03\\x01\\x00\\x00\\x00\\x00\\x00\\x01\\x11\\x00!1Aa@PQq\\x81\\x91\\xa1\\xb1 `\\xc1\\xf00\\xf1\\x10\\x90\\xd1\\xe1\\xff\\xda\\x00\\x08\\x01\\x01\\x00\\x01?!\\xff\\x00U\\n\\x8e\\xb2\\xe5\\xe58\\xd2\\x82\\x1e/2/\\x8a\\x9d\\x11\\x810\\xea\\xb1\\xe2\\xac%\\xaa\\x11M\\xd8\\x1a\\x1fU\\xb2o\\x86\\x1a\\xb4sJ]k\\xcd\\xf1\\xe7\\xd9\\\\Z\\xacc\\x91\\x81\\xd3\\xea\\xe9\\x969\\xfd\\xaf\\xb8B\\xb3\\x16\\xc5\\xd7}\\x9f\\x19\\x89\\x0cg\\x88\\x07\\xb9\\xfa\\x9d\\xd1u\\x1d\\x06\\xa3J\\x8c,\\xf99\\xaf\\x17?\\x88@%p\\nH\\xd6\\xd3\\xfa\\x17_RP%`*l\\xd9T\\xc3\\xd4\\xc2\\xdas\\xf99\\xe5\\xe4\\xf8\"\\xf2C\\xa4\\xfdM\\xae\\xa4E\\x7f\\xf9V\\xeb\\xf2\\x00\\xe4@\\x19\\xb5\\x82\\xa2\\xe38\\xf0\\xbc\\xaf\\xd4\\xf8C\\xa5\\xb5\\xcc\\xbb\\x9f\\x1f&\\xc8P\\xf0\\xfd\\x0c\\xb5\\xe5\\xf58\\xed\\x88\\'4$\\xa7\\xa0\\xb9LW\\xe3\\x84\\xadm\\x92\\xc9\\xec\\xd080\\xf0\\x03#\\xeao\\x13\\x1e\\xe3\\xf0\\t\\xa9\\x10\\x06tH4>\\xdf\\xa4\\xb6<\\xa8#\\xe8\\x98\\x03 \\xfa\\xa7\\x1c\\t\\xed\\xff\\x00\\r\\x19\\xa1F\\xe8QQV\\xf6#\\xa6.\\xf1Jp\\x94\\x17\\xc2\\xf6\\xd7\\xe9\\x92q\\x14\\xcd?E\\xeaqa\\xb1\\x1b\\xa1*\\xb1k\\n\\xf9S\\xd67\\n\\xc1)|\\x03\\xd0\\xa1\\xd9\\xaa\\xfe\\xd4\\xaa=\\xc6\\xd6\\x8f!\\xde\\x83$\\xc8i\\xd4\\xff\\x008{\\xc3z\\n\\x8e\\xc3\\xab\\xfe(1&\\x03\\x07o\\xf1\\x8b\\x17\\x80]Zi\\xe4\\x89\\xe2x\\x9a\\xfdP\\x92aK\\x11\\x1c\\x9av\\x95]G\\xcfC\\xc3\\xbfN\\x06\\x92\"\\x1c4\\xd5\\x19\\xc5A\\xf5=\\xd0\\xbf`\\xfa\\xe7\\x1e\\x9fBp\\xca\\x93\\xfd&\\xd5\\xa9\\x9d\\xb6\\x18\\x07w\\xb4RQ\\x15n\\xae\\x7f9\\xb0\\x18\\xad\\xd43\\xa8\\x036\\xf6\\xf9\\xbb\\x15\\xfb\\xd0\\x07\\xf6P\\xec\\x06\\x1c=JnO\\x89\\x0fv\\xb5\\xebS\\xdd\\xf4\\x9a\\xca\\xba\\xa1\\xe7l\\xedZ\\xf6v\\xfc\\xff\\x00\\x0e\\x02\\x992F\\xac}4\\xab\\x04\\x0b\\xab\\xbe/m7\\xf3bZ\\x02\"L\\xca\\xe1\\xc4\\xd7\\x03Z\\x95\\xb4\\x0e\\x8dW\\xf9$@\\xe3\\xe9\\x1a\\xd58\\x83\\xcf\\xf2\\xce\\xa0\\x0f\\n\\xe24\\xa0\\xc2\\xe0i\\xe1\\xfa\\xb5\\xe3B$\\x98o\\xc8>\\x1b\\xe6<\\xd7\\x87\\x17\\xa6\\xdc\\x15)\\x9c\\xee\\xbd=8o\\xbc\\xf7\\xc6]\\xfd/S\\xa6\\xde 6\\xe3\\x8e\\x877\\x8aO\\x03\"\\xb6E\\x8c\\xf7\\xcb<Lg\\x87-\\xe6\\xd3\\xebQ_\\x07 \\xb6\\xdc\\x84-\\x9a=.\\x8c\\xfd\\xd9sD\\x0e\\x01\\xbe\\x91\\x12;M\\x8df\\xdc.\\xce0\\xd8<O>\\xc2\\x087\\xd2G\\xd6\\xc8MJS\\x9b\\x8av\\xd3\\xf8\\xb42}\\x95\\xbf\\xaa-\\xeb\\n\\xc0@\\x1b\\xees\\x0e\\x83\\x7f\\xfc\\xa0\\xeb\\xb7\\n\\x82\\'K\\x8c\\xf5_~&\\x05\\xd7:/[lX[D\\xe3\\xf0\\x1a\\x18\\x00\\x80,\\x1b\\xf1\\xa7\\xa4/\\xa1}\\xae\\xda\\x88l\\x073\\xf9{\\xf7\\x148{C\\xf1\\xb6\\x9b\\x0e\\xe6\\xbc\\xd3\\xf8\\xdf\\xad[\\x9f\\xbf\\xb6\\x9f\\x197\\x9d\\xfa\\xd2\\x8f\\x7fm\\x92\\x81bqw\\xe8k\\xff\\x00\\xe89\\xed\\xa59\\xc3\\xe5\\x83~\\x91\\x16\\xdb\\x01o\\x9al\\x91\\x92\\xad\\xf1\\xaf\\x0c\\xce\\x8c\\x9b\\xf2\\x051gn\\x98\\x8b\\x14\\x9f;~?-\\xf8@\\x97\\xc3\\xd5\\xf9\\xdb\\x8c`\\xe1\\xe4\\x94\\xf1\\x0cL\\xbc\\x179pw\\xdb2Hm?\\x80R#\\t\\t\\xb7-\\xac\\x05\\xbf\\xdb\\xe0\\xd1\\xc05\\xce\\xa02M\\xf6\\xa0\\x91?\\xe9\\xd6\\x98\\xe9\\xb7\\xe4\\xf1\\x91c^\\x0e\\xb5`\\xa3\\x94~Y\\x9a\\x9b\\xea\\xe7\\x1a\\xdc\\x18\\xbd\\xf4\\x9aQ\\x1aG\\x0fe\\xf9\\xce\\xd5\\x8e\\xe1\\xf5\\x9e=w\\xc4c\\xa5.W\\xbc\\xe8\\xc9\\x85\\x80\\xe4\\xee\\x05\\xb2h1F\\x02\\x83\\x11`\\xe7\\x8duN\\xf9\\x8b\\xe0\\xd8,d\\xfbu\\xdc\\r\\x04\\xa1\\xde\\xc7{\\xef\\xa3\\xb9\\xdfm\\x82yO!\\xb80\\xe1\\x92\\x90$\\xbd\\xc8\\xf2\\xbb\\xef\\x1f\\x13\\x01g>\\x07\\xc2m\\xc9b\\x16\\xa8{_\\x13F\\xfb\\x88\"\\xea\\xca\\xcb\\x93\\x87Zmk\\x02\\x12a\\x1d\\xb1;\\xbc\\x04\\xab\\xc2\\x85\\xa4\\x99\\xeb\\xcc\\xdc\\x02\\xdd\\xf7\\xea\\xf0\\xff\\x00\\x859\\x7f\\xdfM\\xb1\\xf1:\\x01\\xcd\\xe5\\xf6\\xe5\\xbf\\x96\\xeb\\xc4\\xb3\\x10\\x8d$`t9\\xbdOQ\\xb5\\x12+\\x83\\xe2_\\xab\\x02\\x8b\\xb10@o\\xf8m\\x16\\x93@jn\\x0f\\x1e\\x83A\\xda\"\\xf4\\x9b\\xef\\x91Q=\\x025\\xff\\x00\\xe4e\\xf4\\x1bw0S\\x1f\\xc8\\xf1\\x8d(\\xd9\\x93q\\xd9\\x83\\x84&H\\xe4\\x15\\xa8\\xd5\\x8dc\\xdb\\xf4;\\x91\\x99\\x05\\xbd\\xbfJ\\xcb\\x7f\\xee\\x03\\x89\\x99\\xf3\\xb2\\xae\\xc3\\xdd\\x18\\nM\\x7f\\x16\\xcb\\xa0E\\x02\\xf1T\\x1f\\x99\\xa2\\xc1V\\x99\\xc7\\x07Gx\\x8a7\\n\\xa6.\\x88\\xf9V:$\\x17~B\\xdf5\\xb7\\x10i_\\xfc\\xac\\x99T\\xb9\\xb9k\\xfa*4^\\x05\\x93\\x8eE\\x1b\\xb9m \\xfa\\x8d\\xba;V h\\xf6\\nC\\x00\\xadL\\x05\\xc6\\x11\\xd7\\n\\x8a\\xcc0\\xe2\\xe5g\\x9a\\x8c#\\x9e%\\xd0\\xdb\\xbc\\xd1\\x84\\x18\\x1c\\x03C\\xe4xZ\\x01\"S\\x89\\xdb\\xc8#\\xab\\xb7h\\xa8\\xb0\\x98z\\x9b<\\xd3\\x80\\xdcS\\xf6RT \\x9e\\x0b\\xaek\\x98\\x077*\\x9cZ\\xb2\\t\\xd2\\xce\\xafJ\\xb2M\\x0f\\xd0\\x8e\\x05\\xbe\\x91\\xa3t\\x90\\xa9\\xd28\\x94\\x16\\xfeY\\x02\\x9e)\\xfe\\xea\\xbf\\xff\\xda\\x00\\x0c\\x03\\x01\\x00\\x02\\x00\\x03\\x00\\x00\\x00\\x10\\x00\\x00\\x00\\x00\\x00\\x00\\x00\\x00\\x00\\x00\\x00\\x00\\x00\\x00\\x00\\x00\\x00\\x00\\x00\\x00\\x00\\x00\\x00\\x00\\x00\\x00\\x00\\x00\\x00\\x00\\x00\\x00\\x00\\x00\\x00\\x00\\x00\\x00\\x00\\x00\\x00\\x00\\x00\\x00\\x00\\x00\\x00\\x00\\x00\\x00\\x00\\x00\\x00\\x00\\x00\\x00\\x00\\x00\\x00\\x00\\x00\\x00\\x00\\x00\\x00\\x00\\x00\\x00\\x00\\x00\\x00\\x00\\x00\\x00\\x00\\x00\\x00\\x00\\x00\\x00\\x00\\x00\\x00\\x00\\x00\\x00\\x00\\x00\\x00\\x00\\x00\\x00\\x00\\x00\\x00\\x00\\x00\\x00\\x00\\x00\\x00\\x00\\x00\\x00\\x00\\x00\\x00\\x00\\x00\\x00\\x00\\x00\\x00\\x00\\x00\\x00\\x00\\x00\\x00\\x000\\x00\\x00\\x00\\x00\\x00\\x00\\x00\\x00\\x00\\x00\\x00\\x00\\x00\\x00\\x00\\x00\\x00\\x00\\x00\\x00\\x00\\x00\\x00\\x00\\x00\\x00\\x00\\x00\\x00\\x00\\x00\\x04\\x82\\x01\\x00\\x00\\x00\\x00\\x00\\x00\\x00\\x00\\x00\\x00\\x00\\x00\\x00\\x00\\x00\\x00\\x00\\x00\\x00\\x00\\x00\\x00\\x00\\x00\\x00\\x00\\x00\\x00\\x00\\x00\\x04 \\x00\\x18\\x00\\x00\\x00\\x00\\x00\\x00\\x00\\x00\\x00\\x00\\x00\\x00\\x00\\x00\\x00\\x00\\x00\\x00\\x00\\x00\\x00\\x00\\x00\\x00\\x00\\x00\\x00\\x00\\x00\\x00\\x00\\x00\\x14\\x80\\x00\\x00\\x00\\x00\\x00\\x00\\x00\\x00\\x00\\x00\\x00\\x00\\x00\\x00\\x00\\x00\\x00\\x00\\x00\\x00\\x00\\x00\\x00\\x00\\x00\\x00\\x00\\x00\\x00\\x00\\x80\\x00`\\x00\\x00\\x00\\x00\\x00\\x00\\x00\\x00\\x00\\x00\\x00\\x00\\x00\\x00\\x00\\x00\\x00\\x00\\x00\\x00\\x00\\x00\\x00\\x00\\x00\\x00\\x00@\\x08\\x00\\n(\\xb0\\x80\\x0c \\x00\\x00\\x00\\x00\\x00\\x00\\x00\\x00\\x00\\x00\\x00\\x00\\x00\\x00\\x00\\x00\\x00\\x00\\x00\\x00\\x00\\x00\\x00\"\\x00\\x00\\x00\\x08\\x14@\\x00\\x00\\x01\\x02\\x08\\x00\\x00\\x00\\x00\\x00\\x00\\x00\\x00\\x00\\x00\\x00\\x00\\x00\\x00\\x00\\x00\\x00\\x00\\x00\\x00\\x00\\x02\\x00\\x00\\x00\\x00\\x00\\x00\\x00\\x00\\x00\\x00\\x00\\x80\\x00\\x00\\x00\\x00\\x00\\x00\\x00\\x00\\x00\\x00\\x00\\x00\\x00\\x00\\x00\\x00\\x00\\x00\\x00\\x00\\x02\\x00\\x00\\x00\\x00\\x00\\x00\\x00\\x00\\x00\\x00\\x00p\\x00\\x00\\x00\\x00\\x00\\x00\\x00\\x00\\x00\\x00\\x00\\x00\\x00\\x00\\x00\\x00\\x00\\x00\\x00\\x00\\x01@\\x00\\x00\\x00\\x00\\x00\\x00\\x00\\x00\\x00\\x00P\\x00\\x00\\x00\\x00\\x00\\x00\\x00\\x00\\x00\\x00\\x00\\x00\\x00\\x00\\x00\\x00\\x00\\x00\\x00\\x00\\x00\\x04\\x00\\x00\\x00\\x00\\x00\\x00\\x00\\x00\\x00\\x00\\x03\\x00\\x00\\x00\\x00\\x00\\x00\\x00\\x00\\x00\\x00\\x00\\x00\\x00\\x00\\x00\\x00\\x00\\x00\\x00\\x00\\x00\\x00\\x10\\x00\\x00\\x00\\x00\\x00\\x00\\x00\\x00\\x00\\x00\\x08\\x00\\x00\\x00\\x00\\x00\\x00\\x00\\x00\\x00\\x00\\x00\\x00\\x00\\x00\\x00\\x00\\x00\\x00\\x00\\x00\\x00\\x00@\\x00\\x00\\x00\\x00\\x00\\x00\\x00\\x00\\x00\\x00\\x00\\x00\\x00\\x00\\x00\\x00\\x00\\x00\\x00\\x00\\x00\\x00\\x00\\x00\\x00\\x00\\x00\\x00\\x00\\x00\\x00\\x00\\x01\\x00\\x00\\x00\\x00\\x00\\x00\\x00\\x00\\x00\\x00\\x00\\x90\\x00\\x00\\x00\\x00\\x00\\x00\\x00\\x00\\x00\\x00\\x00\\x00\\x00\\x00\\x00\\x00\\x00\\x00\\x00\\x00\\x00\\x05\\x08\\x00\\x00\\x00\\x00\\x00\\x00\\x00\\x00\\x00\\x00\\x00\\x00\\x00\\x00\\x00\\x00\\x00\\x00\\x00\\x00\\x00\\x00\\x00\\x00\\x00\\x00\\x00\\x00\\x00\\x00\\x00\\x00\\x00\\x80\\x00\\x00\\x00\\x00\\x00\\x00\\x00\\x00\\x00\\x00\\x10\\x80\\x80\\x00\\x00\\x00\\x00\\x00\\x00\\x00\\x00\\x00\\x00\\x00\\x00\\x00\\x00\\x00\\x00\\x00\\x00\\x00\\x02@\\x00\\x00\\x00\\x00\\x00\\x00\\x00\\x00\\x00\\x00\\x01@\\x00\\x00\\x00\\x00\\x00\\x00\\x00\\x00\\x00\\x00\\x00\\x00\\x00\\x00\\x00\\x00\\x00\\x00\\x00\\x00\\x00\\x08\\x00\\x00\\x00\\x00\\x00\\x00\\x00\\x00\\x00\\x00\\x07\\x00\\x00\\x00\\x00\\x00\\x00\\x00\\x00\\x00\\x00\\x00\\x00\\x00\\x00\\x00\\x00\\x00\\x00\\x00\\x00\\x00\\x00P\\x00\\x00\\x00\\x00\\x00\\x00\\x00\\x00\\x00\\x00\\x00\\x00\\x00\\x00\\x00\\x00\\x00\\x00\\x00\\x00\\x00\\x00\\x00\\x00\\x00\\x00\\x00\\x00\\x00\\x00\\x00\\x00\\x00\\t\\x00\\x00\\x00\\x00\\x00\\x00\\x00\\x00\\x010\\x00\\x00\\x00\\x00\\x00\\x00\\x00\\x00\\x00\\x00\\x00\\x00\\x00\\x00\\x00\\x00\\x00\\x00\\x00\\x00\\x00\\x00\\x00\\x00\\x00\\x00\\x000A\\x00\\x00\\x000\\x00\\x00\\x00\\x00\\x00\\x00\\x00\\x00\\x00\\x00\\x00\\x00\\x00\\x00\\x00\\x00\\x00\\x00\\x00\\x00\\x00\\x00\\x00\\x00\\x01\\x08\\x0cB\\x00\\x00\\x00\\x06\\x00\\x00\\x00\\x00\\x00\\x00\\x00\\x00\\x00\\x00\\x00\\x00\\x00\\x00\\x00\\x00\\x00\\x00\\x00\\x00\\x00\\x00\\x00\\x00\\x00\\x00\\x00\\x00\\x00\\x00\\x00\\x00\\x00\\x00\\x00\\x00\\x00\\x00\\x00\\x00\\x00\\x00\\x00\\x00\\x00\\x00\\x00\\x00\\x00\\x00\\x00\\x00\\x00\\x00\\x00\\x00\\x00\\x00\\x00\\x00\\x00\\x00\\x00\\x00\\x00\\x00\\x00\\x00\\x00\\x00\\x00\\x00\\x00\\x00\\x00\\x00\\x00\\x00\\x00\\x00\\x00\\x00\\x00\\x00\\x00\\x00\\x00\\x00\\x00\\x00\\x00\\x00\\x00\\x00\\x00\\x00\\x00\\x00\\x00\\x00\\x00\\x00\\x00\\x00\\x00\\x00\\x00\\x00\\x00\\x00\\x00\\x00\\x00\\x00\\x00\\x00\\x00\\x00\\x00\\x00\\x00\\x00\\x00\\x00\\x00\\x00\\x00\\x00\\x00\\x00\\x00\\x00\\x00\\x00\\x00\\x00\\x00\\x00\\x00\\x00\\x00\\x00\\x00\\x00\\x00\\x00\\x00\\x00\\x00\\x00\\x00\\x00\\x00\\x00\\x00\\x00\\x00\\x00\\x00\\x00\\x00\\x00\\x00\\x00\\x00\\x00\\x00\\x00\\x00\\x00\\x00\\x00\\x00\\x00\\x00\\x00\\x00\\x00\\x00\\x00\\x00\\x00\\x0f\\xff\\xc4\\x00\\x14\\x11\\x01\\x00\\x00\\x00\\x00\\x00\\x00\\x00\\x00\\x00\\x00\\x00\\x00\\x00\\x00\\x00\\xa0\\xff\\xda\\x00\\x08\\x01\\x03\\x01\\x01?\\x10(\\xdf\\xff\\xc4\\x00\\x14\\x11\\x01\\x00\\x00\\x00\\x00\\x00\\x00\\x00\\x00\\x00\\x00\\x00\\x00\\x00\\x00\\x00\\xa0\\xff\\xda\\x00\\x08\\x01\\x02\\x01\\x01?\\x10(\\xdf\\xff\\xc4\\x00*\\x10\\x01\\x00\\x01\\x03\\x03\\x03\\x04\\x01\\x05\\x01\\x01\\x00\\x00\\x00\\x00\\x00\\x01\\x11\\x00!A1QaPq\\x81@`\\x91\\xa1 \\x100\\xb1\\xc1\\xd1\\x90\\xf0\\xff\\xda\\x00\\x08\\x01\\x01\\x00\\x01?\\x10\\xff\\x00\\x95\\x00E\\x9b\\xa8/\\x12\\x12\\xe0\\x96\\x91\\xd7\\xa4\\xe4\\xbc9\\xad\\xd6\\x12-\\x8f\\xae46w\\xc1\\x05 \\ng&\\xde\\xd5\\x84\\x90\\x9b\\xb9%\\x8b\\xc1BR`\\x04#\\x96\\x86\\xc1E$\\x0b6\\xfe4\\x9e\\x00q\\xfa\\xc8Ccwa\\xbf\\xd7\\xcf\\xb5&\\x1a-0\\xeae,j\\xc0\\x17R\\x90\\xad\\x85x\\xf1\\xc2j\\xbc\\x01\\xf8\\xa3PM\\x86\\xe3\\x8f\\xed\\xf6\\x99-f\\x04\\xd8l\\xb4\\x01\\xe5\\xb0\\xb4\\xf7iP\\xe1\\x96\\xe8\\x1c\\x8b\\xe9\\x01\\xf8,\\x05\\x00%W\\x05\\x11a\\x7f\\n\\xcf\\xcf\\xb4\\xa33\\x02Ul\\x14\\xe5Ej\\xd5\\x91\\x1a4OI$K\\xf2%\\x983\\x82\\x9b\\xda&E\\x00\\x08=\\xa4\\x9d\\x99\\x0c\\x1a;R\\xa2\\xef<~C8\\xc7J\\x8c\\x00o5\\x00W6\\x1c\\x82n3wCoi\\x92\\x85\\x8d2\\x19\\xb3-\\xce\\xc6\\xcf\\xc9;\\x89m\\xf9\\xd1\\xcf\\xe4\\'\\x97\\xb4\\x81T\\x0bA0\\xf2\\x81\\xe6\\x95.Y\\x952\\xab\\x95\\x7f\\x19\\x9c@\\x91\\xe7t\\r\\xbc%\\xe5\\x04N\\x1d\\x15\\x00\\x16\\x00\\xf6\\x9a\\x0ca=\\x88\\xfd\\x0f\\xe0\\x03\\x00<\\xa9\\xd0\\x03V\\x92\\xa3$\\x83\\xa8\\xe7\\xa1\\x82\\xfb\\x03u\\x86Z\\x00X\\x03\\xda\\x8c\\xc1N\\xdf\\x83\\xfb?A\\x8b$\\x92\\xe0\\x05Z1\\\\\\x8a\\xdd^\\x0b\\xde \\xe6\\x9b\\x18\\xb5\\x03\\xbd\\xce\\xe97>\\xcc:\\x18A\\x9e\\x06\\x8e\\xec\\x14\\xe3x9\\xcc,\\x9d\\xe1\\xedF\"\\x92\\x00\\x8en\\x9fT\\xed\\x98ha\\xe5o\\xdd\\x16#\\xa8G\\xcb~\\xea\\xc4\\x92\\x01\\xb9\\xb5_%\\x1e\\xc3\\x97\\x05mf\\x8f\\x94x\\xa8\\xe4\\x89\\x0b\\xb8\\x88\\xfe\\xb1\\xf8;#\"J\\xb3\\x08>(hk#\\xf4\\x8a(\"\\\\\\x05\\x9c\\x00?@\\x813\\xe7\\x80\\n*j@1y{9\\x14Q\\xa2\\xc2.l\\xf8\\xa1\\xefC\\x8c\\xa0.p\\xfc\\x85\\x9a\\x96\\x97\\x01>\\x06\\xa1\\xe0\\x99\\xba\\x94o\\xac\\x80\\xe7\\x7f\\xea\\xa0\\xdf\\xec\\x08;\\xb3\\xa3\\xb4\\xe8\\xb3Qr\\xae\\xc4\"\\xee}\\x84(\\xd7\\x85TI&\\x89\\xba\\x1bM2\\xa4;8s\\xc9\\xe2\\x0e\\x1a~.\\xa1*uW\\xf3g\\x1c\\xa2H`\\xac8F\\xa1\\xf8E\\xf2b\\xfe\\x0e\\xe5F\\x84d\\xa6+\\x89\\xcb\\xa8\\x9a)%\\xb7\\x11\\x1a\\xd0e\\xaf{\\xa0Q\\xf3\\xbcI\\x93f8r\\xa8\\xa1l\\x96\\x81\\xbf\\xf1\\x13\\xe6\\x94=\\x11\\x08\\x9b\\n`\\xe0\\xfd\\x96\\xb7\\x15\\x08x\\x9eh\\xd2\\x1e\\xe5$hH\\xa3\\xef`x;\\x87^B \\x01*\\xe2\\xa3\\xa0\\xf6h\\tBj\\xeb\\x90\\xb6\\xc7\\x1e\\x84\\x0e\\xca\\x15\\x7fq\\xabN\\xa9\\x9f%P5\\x7f\\xdaZ\\xfe\\xe9R\\xe2\\x13Y\\x01q\\x12D\\xa3IA`\\xa4\\x10\\xd8\\xce\\xbc\\x14\\x00AD\\x88\\xd9:\\xe2\\xae\\x9a~d\\xb2h \\x06\\x16\\xe2\\xd3>\\xb6\\x08\\x00l\\xa8\\xb2\\xb5\\x18\\xbd,\\xb8Y\\xd6\\x85\\\\\\x92QIdv&\\xd2ez\\xfb\\x8fG \\x88n\\xc7\\x90\\xb3,\\xda\\x91\\xab\\xce\\x98\\xa4\\x00\\x94K\\x07YZ\\x06\\xac\\xc4\\x84o\\x01\\xc5\\xdcS\\xc6i\\xa6&\\xc3\\xb0\\x00`\\x03\\xd7\\x113\\x18\\x1am\\x95a\\x88\\xc8FB\\x81\\xae\\xc2\\x03 \\x04\\x00\\x18:\\xd0\\xcb\\x18\\xec\\x11N\\xe3\\xe5m\\xeb\\x81\\xf8\\xd71\\\\\\x1dX ds6(\\x00\\x00\\x04\\x00X\\xebD\\xe0\\xbf1\\x05\\x81\\xcb\\x10r\\xd2\\x82u,\\xde\\xb0\\xe0\\x988=lM\\x83$\\xac\\x1e\\x01\\xdaV\\x90\\xaa-\\xc6\\x80\\xc0\\x00u\\xb3e\\x06 H\\'k\\xef\\xf7\\xeb\\xac\\xf1gLO84\\xb7]qe\\xd0M\\x9f\\x0f\\x85\\xf3\\xebP\\xf3\\x17\\xe0e\\xf0\\xca&?\\x89\\x08\\x80\\x0c\\x01\\xd7\\x15k\\x85b!\\xebQ\\xa4_\\xdd\\x83\\xf4\\x9e:\\xea\\xe50w\\xc2\\x03\\xe0z\\xd7\\\\\\xe0\\xe6\\x83\\x87\\xd7\\xe3\\xae\\xea\\x8c\\x87\\xd6\\xe1\\xc8\\xf8a\\xff\\x00}t\\xc7\\xd0\\x9e\\xb7+\\xc0SP\\xb6\\xf0\\xfa\\xeb&D5\\xb0C\\xf5\\xebsKTl\\xca/\\x1dt\\x18\\xa4Y<\\x93\\xe5\\xfa\\xdd~\\x83\\xe1\\x88vB\\x89\\x81439\\x1d\\xf1\\xf0u\\xc8\\x93\\r\\xc2a}?\\x8f]$\\x02\\x93\\x97\\xa2t\\xb0\\x01\\xd72+\\x83\\x17-\\x9d\\x97\\xf1=s\\x00\\xeeQT\\xc3\\xb8\\xdcL\\x8af\\x88\\xf9\\x00\\xa7\\xd0k6T\\xd4\\xe4C\\xadh\\x05\\xf324\\xb6nD\"\\\\}s\\x06\\x08vM\\xce\\x0c\\xae\\x05\\xd9F?\\x8cH\\r\\xfc\\xa2;$\\x88\\xf5\\xa4\\x12\\x1a\\x95h<X\\xb6xz\\xf9\\x0b\\xf0\\x96#\\xc040nr(\\x8b\\t\\xd3NK\\xe1Lvd:\\xca\\x03a\\x8f3\\xa8\\xfd~:\\x04\\xa5CDh\\xc2a$M\\x11F\\xa5\\xec \\xc4\\x88\\x87\\x9c\\xbb\\xadJT,\\xc4\\n\\x07 DF\\xe2u\\x82\\xea\\x8a\\xc7M8\\xb4\\x1e\\x16\\x93\\x1b\\xa5\\\\\\x18G\\xcf@\\x1e/\\x9c\\x82\\x07*\\x85\\x18\\xadV\\x97\\xfb\\xe3\\xe7\\xac\\xb6\\x9c\\xb1\\x95n\\xfd\\xdd\\x87\\xa0\\x03M$\\x92S\\xb9\\x17\\xcd\\xd6\\x95{\\x8eP@\\xb2\\xdd`\\xd7\\xd7\\xa0V\\x02V\\xad0,2WW\\'$\\xc7Z\\r\\xc8i/~19y\\xaf\\x07\\xf2\\xbds\\x96J\\xdd\\x19\\xe4\\x8c\\x13e\\x00\\x00\\x00\\x16\\x03\\x1dl\\xd4^\\x1f\\xcal\\xcb\\xf2\\xc1R\\xae\\xedI\\x05\\x84D{z\\xc0\\xf0\\xf5\\x890\\x00\\xba\\xae**\\xb4t\\x81\\x00\\x8c#d\\xcb=u\\x15\\xd8D4\\xc2\\x037\\x1e\\xf2\\xcb\\xeb\\x00\\xadb\\xf0L\\x0e\\xf0!\\xd7\\xb96\\xee&@dE)& e\\x8be\\xef\\xb1\\xcc\\x99C\\xd4\\x91bR\\xc7`a,!\\xbd\\xf4\\x1a\\x08\\xfc\\x0c\\x05\\x01\\xdf+\\x95^\\xbf\\x1e\\xe7\\x1cD\\'4\\x94L\\x8af\\x99\\x85\\x9cj5Y\\x0b\\x8fq\\xb8\\xfa\\x81\\xacpuuS\\x80\\x15[\\x00\\xb4\\x0c\\x92&\\x85xbo t9_`\\xaa\\x1b\\xdd\\xc2T\\xbbs\\xb9\\x86F/X8_\\xc8\\xea%\\x91\\x12\\xcf\\xa6}\\x15\\t\\xb4\\x00\\xba\\xae*6\\xbf`\\x0en/\\xb5\\xae\\x9a\\x12\\xfb\\t\\xed\\xc4\\x18\\xcaBJ9\\x85\\x92\\x93qt\\xe1s\\x9c}\\x03\\xe1?7\\xf7\\x18\\xd5\\xb6H\\xf3%\\x10G\\x9a\\xbb\\xd7\\xf98z$\\xfc\\xd1|\\xad?\\x16\\xd4\\xaf#L;\\x81\\xfd\\xd1\\x03\\xa9\\xe2\\x1c\\xf9\\x01\\xa8\\x92\\x89\\x05~\\xe9\\xf8\\x7f>\\xfa\\x95\\xac.\\x01\\x95\\x80\\xcd\\r,\\xc6my0L`a:\\x84\\x13>\\xc4W(\\x17\\xcc\\x91\\x9c\\xbeG#S\\xe1\\x85y\\xf0\\x1d\\xe7-\\x10\\x1a\\xc3i\\xf0-\\xcdp6\\x02Z(\\xf2\\xc4\\x97y\\x90\\xf2\\xd3\\xcc\\xa4\\x96r\\xbc;(\\xdc\\xd3\\xf00\\xbb\\x83\\x18\\x87\\x9f\\x9a\\r\\x932f\\x80X8?%\\xa4 \\tj#d\\xa7Cl\\xa0\\xb6\\x8b\\'b\\xe6\\xa4x\\x14\\x82\\x1d\\xcb\\xeb\\x87\\xc4\\r\\xff\\x00\\x97Z\\xe2\\x01\\x93\\xf1\\x14\\x11\\xdd\\x8f\\xac\\x08\\xf2J\\x887<\\x15\\x06\\xcb\\xc8\\x94`\\x07D(\\xd1\\x80\\xdd\\xb0\\x0c\\x1e\\xc8b\\xf3\\xa9\\x9b\\xc3W\\xfd\\xb3\\x0c\\xfc\\x85\\x00\\x00\\x00h\\x1f\\xba\\x00\\xbb@\\xa9\\xe6\\x8b\\x10\\x7f\\xda\\x9f\\xff\\xd9'"
      ]
     },
     "execution_count": 93,
     "metadata": {},
     "output_type": "execute_result"
    }
   ],
   "source": [
    "test.content"
   ]
  },
  {
   "cell_type": "code",
   "execution_count": 96,
   "id": "8019910a",
   "metadata": {},
   "outputs": [],
   "source": [
    "logo = Image.open(BytesIO(test.content)).convert(\"RGBA\")"
   ]
  },
  {
   "cell_type": "code",
   "execution_count": 97,
   "id": "e8cc9885",
   "metadata": {},
   "outputs": [
    {
     "data": {
      "image/png": "[encoded data removed]",
      "text/plain": [
       "<PIL.Image.Image image mode=RGBA size=720x480>"
      ]
     },
     "execution_count": 97,
     "metadata": {},
     "output_type": "execute_result"
    }
   ],
   "source": [
    "logo"
   ]
  },
  {
   "cell_type": "code",
   "execution_count": 100,
   "id": "fe577668",
   "metadata": {},
   "outputs": [],
   "source": [
    "from  qrcode.image.styles.colormasks import ImageColorMask"
   ]
  },
  {
   "cell_type": "code",
   "execution_count": 102,
   "id": "c5e04693",
   "metadata": {},
   "outputs": [],
   "source": [
    "?ImageColorMask"
   ]
  },
  {
   "cell_type": "code",
   "execution_count": null,
   "id": "733d87f0",
   "metadata": {},
   "outputs": [],
   "source": []
  }
 ],
 "metadata": {
  "kernelspec": {
   "display_name": "Python 3 (ipykernel)",
   "language": "python",
   "name": "python3"
  },
  "language_info": {
   "codemirror_mode": {
    "name": "ipython",
    "version": 3
   },
   "file_extension": ".py",
   "mimetype": "text/x-python",
   "name": "python",
   "nbconvert_exporter": "python",
   "pygments_lexer": "ipython3",
   "version": "3.11.5"
  }
 },
 "nbformat": 4,
 "nbformat_minor": 5
}
